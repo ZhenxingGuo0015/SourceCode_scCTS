{
 "cells": [
  {
   "cell_type": "code",
   "execution_count": 1,
   "id": "61d90455-0019-4fbd-b696-57609272d0d3",
   "metadata": {
    "execution": {
     "iopub.execute_input": "2024-03-21T12:18:55.456099Z",
     "iopub.status.busy": "2024-03-21T12:18:55.455604Z",
     "iopub.status.idle": "2024-03-21T12:18:58.042519Z",
     "shell.execute_reply": "2024-03-21T12:18:58.041559Z",
     "shell.execute_reply.started": "2024-03-21T12:18:55.456050Z"
    }
   },
   "outputs": [],
   "source": [
    "import scanpy as sc\n",
    "import anndata as ad\n",
    "import pandas as pd\n",
    "import numpy as np\n",
    "from scipy.io import mmread"
   ]
  },
  {
   "cell_type": "markdown",
   "id": "2d34cd0b-6415-4768-8738-a724e6f5551e",
   "metadata": {},
   "source": [
    "subset the `anndata` object"
   ]
  },
  {
   "cell_type": "code",
   "execution_count": 2,
   "id": "08b47a39-8eb2-45e4-90c7-27f1cc135e0f",
   "metadata": {
    "execution": {
     "iopub.execute_input": "2024-03-21T12:18:58.044502Z",
     "iopub.status.busy": "2024-03-21T12:18:58.044091Z",
     "iopub.status.idle": "2024-03-21T12:19:22.654706Z",
     "shell.execute_reply": "2024-03-21T12:19:22.653535Z",
     "shell.execute_reply.started": "2024-03-21T12:18:58.044480Z"
    }
   },
   "outputs": [],
   "source": [
    "adata = sc.read_h5ad(\"/data/scRNA-seq/covid19_GSE158055/covid19_GSE158055_raw.h5ad\")"
   ]
  },
  {
   "cell_type": "code",
   "execution_count": 3,
   "id": "5c14acf8-8e6b-461e-8f93-43f5d215de31",
   "metadata": {
    "execution": {
     "iopub.execute_input": "2024-03-21T12:19:22.656023Z",
     "iopub.status.busy": "2024-03-21T12:19:22.655815Z",
     "iopub.status.idle": "2024-03-21T12:19:22.671564Z",
     "shell.execute_reply": "2024-03-21T12:19:22.670760Z",
     "shell.execute_reply.started": "2024-03-21T12:19:22.656004Z"
    }
   },
   "outputs": [],
   "source": [
    "# 8 severe patients and 5 controls, more balanced\n",
    "is_frozen_pbmc = adata.obs['characteristics: Sample type'].isin(['frozen PBMC'])\n",
    "# sampled in the covid19 progress or from controls\n",
    "is_recovered_or_healthy = adata.obs['characteristics: Sample time'].isin(['progression', 'control'])\n",
    "# severe symptomes or control\n",
    "is_severe_or_ctrl = adata.obs['characteristics: CoVID-19 severity'].isin(['severe/critical', 'control'])\n",
    "# no other diseases\n",
    "only_covid_or_ctrl = adata.obs['characteristics: Comorbidities'].isin(['none', 'control'])\n",
    "# most cells are sequenced by 10X 5'\n",
    "is_tgt_protocol = adata.obs['characteristics: Single cell sequencing platform'] == \"10X 5'\"\n",
    "# these 2 cell types contain < 100 cells\n",
    "# is_tgt_majorType = ~adata.obs['majorType'].isin(['Neu', 'Macro'])\n",
    "is_tgt_samples = is_frozen_pbmc & is_severe_or_ctrl & is_recovered_or_healthy & only_covid_or_ctrl & is_tgt_protocol"
   ]
  },
  {
   "cell_type": "code",
   "execution_count": 4,
   "id": "7242d6b2-8c0c-4aba-a7fe-7924c7e8b247",
   "metadata": {
    "execution": {
     "iopub.execute_input": "2024-03-21T12:19:22.672396Z",
     "iopub.status.busy": "2024-03-21T12:19:22.672219Z",
     "iopub.status.idle": "2024-03-21T12:19:22.751621Z",
     "shell.execute_reply": "2024-03-21T12:19:22.750844Z",
     "shell.execute_reply.started": "2024-03-21T12:19:22.672380Z"
    }
   },
   "outputs": [
    {
     "data": {
      "text/plain": [
       "View of AnnData object with n_obs × n_vars = 94679 × 27943\n",
       "    obs: 'sampleID', 'celltype', 'majorType', 'title', 'organism', 'Patients', 'characteristics:  Datasets', 'characteristics: City', 'characteristics: Age', 'characteristics: Sex', 'characteristics: Sample type', 'characteristics: CoVID-19 severity', 'characteristics: Sample time', 'characteristics: Sampling day (Days after symptom onset)', 'characteristics: SARS-CoV-2', 'characteristics: Single cell sequencing platform', 'characteristics: BCR single cell sequencing', 'characteristics: TCR single cell sequencing', 'characteristics: Outcome', 'characteristics: Comorbidities', 'characteristics: COVID-19-related medication and anti-microbials', 'characteristics: Leukocytes [G/L]', 'characteristics: Neutrophils [G/L]', 'characteristics: Lymphocytes [G/L]', 'characteristics: Unpublished', 'characteristics: geo accession', 'characteristics: instrument model'"
      ]
     },
     "execution_count": 4,
     "metadata": {},
     "output_type": "execute_result"
    }
   ],
   "source": [
    "subset_adata = adata[is_tgt_samples,]\n",
    "subset_adata"
   ]
  },
  {
   "cell_type": "code",
   "execution_count": 5,
   "id": "e006f6ef-4d84-4874-8683-6d2be545a046",
   "metadata": {
    "execution": {
     "iopub.execute_input": "2024-03-21T12:19:22.752435Z",
     "iopub.status.busy": "2024-03-21T12:19:22.752260Z",
     "iopub.status.idle": "2024-03-21T12:19:25.260869Z",
     "shell.execute_reply": "2024-03-21T12:19:25.259721Z",
     "shell.execute_reply.started": "2024-03-21T12:19:22.752419Z"
    }
   },
   "outputs": [],
   "source": [
    "subset_adata.write_h5ad(\"covid19_GSE158055_subset100k.h5ad\")"
   ]
  }
 ],
 "metadata": {
  "kernelspec": {
   "display_name": "spatial",
   "language": "python",
   "name": "spatial"
  },
  "language_info": {
   "codemirror_mode": {
    "name": "ipython",
    "version": 3
   },
   "file_extension": ".py",
   "mimetype": "text/x-python",
   "name": "python",
   "nbconvert_exporter": "python",
   "pygments_lexer": "ipython3",
   "version": "3.11.5"
  },
  "widgets": {
   "application/vnd.jupyter.widget-state+json": {
    "state": {},
    "version_major": 2,
    "version_minor": 0
   }
  }
 },
 "nbformat": 4,
 "nbformat_minor": 5
}
